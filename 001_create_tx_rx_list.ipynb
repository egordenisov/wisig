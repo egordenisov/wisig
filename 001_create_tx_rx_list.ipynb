{
 "cells": [
  {
   "cell_type": "code",
   "execution_count": 19,
   "metadata": {},
   "outputs": [
    {
     "name": "stdout",
     "output_type": "stream",
     "text": [
      "The autoreload extension is already loaded. To reload it, use:\n",
      "  %reload_ext autoreload\n"
     ]
    }
   ],
   "source": [
    "from tqdm.notebook import trange, tqdm\n",
    "import matplotlib.pyplot as plt\n",
    "import numpy as np\n",
    "%load_ext autoreload\n",
    "%autoreload 2\n",
    "\n",
    "import timeit"
   ]
  },
  {
   "cell_type": "code",
   "execution_count": 20,
   "metadata": {},
   "outputs": [],
   "source": [
    "min_sig = 50\n",
    "num_tx = 2\n",
    "min_sig_low = 0\n",
    "\n",
    "satisfaction = 0.9"
   ]
  },
  {
   "cell_type": "code",
   "execution_count": 21,
   "metadata": {},
   "outputs": [
    {
     "name": "stdout",
     "output_type": "stream",
     "text": [
      "Time:  0.0019873430001098313\n",
      "34\n",
      "['20-15', '20-7']\n",
      "['1-1', '1-19', '1-20', '13-13', '13-14', '13-7', '14-7', '18-19', '18-2', '19-1', '19-19', '19-2', '19-20', '2-1', '2-19', '20-1', '20-19', '20-20', '23-1', '23-3', '23-5', '23-6', '23-7', '24-13', '24-16', '24-5', '24-6', '3-19', '3-2', '7-14', '7-7', '8-14', '8-7', '8-8']\n"
     ]
    }
   ],
   "source": [
    "from tx_rx_list_creator_heuristic import solve_for_lists_heurstic\n",
    "\n",
    "start = timeit.default_timer()\n",
    "\n",
    "op_tx_list, op_rx_list = solve_for_lists_heurstic(num_tx=num_tx, min_sig=min_sig, min_sig_low = None, satisfaction=satisfaction)\n",
    "\n",
    "stop = timeit.default_timer()\n",
    "print('Time: ', stop - start)  \n",
    "    \n",
    "print(len(op_rx_list))\n",
    "print(op_tx_list)\n",
    "print(op_rx_list)"
   ]
  },
  {
   "cell_type": "code",
   "execution_count": 23,
   "metadata": {
    "scrolled": false
   },
   "outputs": [
    {
     "ename": "GurobiError",
     "evalue": "Model too large for size-limited license; visit https://www.gurobi.com/free-trial for a full license",
     "output_type": "error",
     "traceback": [
      "\u001b[0;31m---------------------------------------------------------------------------\u001b[0m",
      "\u001b[0;31mGurobiError\u001b[0m                               Traceback (most recent call last)",
      "Cell \u001b[0;32mIn [23], line 9\u001b[0m\n\u001b[1;32m      4\u001b[0m \u001b[38;5;66;03m# Requires a GUROBI Licence\u001b[39;00m\n\u001b[1;32m      5\u001b[0m \u001b[38;5;66;03m# License can be obtained for free for academic users\u001b[39;00m\n\u001b[1;32m      6\u001b[0m \u001b[38;5;66;03m# https://www.gurobi.com/downloads/end-user-license-agreement-academic/\u001b[39;00m\n\u001b[1;32m      7\u001b[0m start \u001b[38;5;241m=\u001b[39m timeit\u001b[38;5;241m.\u001b[39mdefault_timer()\n\u001b[0;32m----> 9\u001b[0m op_tx_list, op_rx_list \u001b[38;5;241m=\u001b[39m \u001b[43msolve_for_lists_milp\u001b[49m\u001b[43m(\u001b[49m\u001b[43mnum_tx\u001b[49m\u001b[38;5;241;43m=\u001b[39;49m\u001b[43mnum_tx\u001b[49m\u001b[43m,\u001b[49m\u001b[43m \u001b[49m\u001b[43mmin_sig\u001b[49m\u001b[38;5;241;43m=\u001b[39;49m\u001b[43mmin_sig\u001b[49m\u001b[43m,\u001b[49m\u001b[43m \u001b[49m\u001b[43mmin_sig_low\u001b[49m\u001b[43m \u001b[49m\u001b[38;5;241;43m=\u001b[39;49m\u001b[43m \u001b[49m\u001b[43mmin_sig_low\u001b[49m\u001b[43m,\u001b[49m\u001b[43m \u001b[49m\u001b[43msatisfaction\u001b[49m\u001b[38;5;241;43m=\u001b[39;49m\u001b[43msatisfaction\u001b[49m\u001b[43m)\u001b[49m\n\u001b[1;32m     11\u001b[0m stop \u001b[38;5;241m=\u001b[39m timeit\u001b[38;5;241m.\u001b[39mdefault_timer()\n\u001b[1;32m     12\u001b[0m \u001b[38;5;28mprint\u001b[39m(\u001b[38;5;124m'\u001b[39m\u001b[38;5;124mTime: \u001b[39m\u001b[38;5;124m'\u001b[39m, stop \u001b[38;5;241m-\u001b[39m start) \n",
      "File \u001b[0;32m~/dev/wisig-subset-creation/tx_rx_list_creator_milp.py:93\u001b[0m, in \u001b[0;36msolve_for_lists_milp\u001b[0;34m(num_tx, min_sig, min_sig_low, satisfaction, verbose)\u001b[0m\n\u001b[1;32m     90\u001b[0m m\u001b[38;5;241m.\u001b[39msetObjectiveN(min_sig_var \u001b[38;5;241m-\u001b[39m min_sig_low, \u001b[38;5;241m1\u001b[39m, \u001b[38;5;241m0\u001b[39m)\n\u001b[1;32m     91\u001b[0m m\u001b[38;5;241m.\u001b[39mModelSense \u001b[38;5;241m=\u001b[39m GRB\u001b[38;5;241m.\u001b[39mMAXIMIZE\n\u001b[0;32m---> 93\u001b[0m \u001b[43mm\u001b[49m\u001b[38;5;241;43m.\u001b[39;49m\u001b[43moptimize\u001b[49m\u001b[43m(\u001b[49m\u001b[43m)\u001b[49m\n\u001b[1;32m     95\u001b[0m \u001b[38;5;28;01mif\u001b[39;00m m\u001b[38;5;241m.\u001b[39mstatus \u001b[38;5;241m==\u001b[39m GRB\u001b[38;5;241m.\u001b[39mOPTIMAL:\n\u001b[1;32m     96\u001b[0m     min_sig_value \u001b[38;5;241m=\u001b[39m min_sig_var\u001b[38;5;241m.\u001b[39mX;\n",
      "File \u001b[0;32msrc/gurobipy/model.pxi:864\u001b[0m, in \u001b[0;36mgurobipy.Model.optimize\u001b[0;34m()\u001b[0m\n",
      "\u001b[0;31mGurobiError\u001b[0m: Model too large for size-limited license; visit https://www.gurobi.com/free-trial for a full license"
     ]
    }
   ],
   "source": [
    "from tx_rx_list_creator_milp import solve_for_lists_milp\n",
    "\n",
    "\n",
    "# Requires a GUROBI Licence\n",
    "# License can be obtained for free for academic users\n",
    "# https://www.gurobi.com/downloads/end-user-license-agreement-academic/\n",
    "start = timeit.default_timer()\n",
    "\n",
    "op_tx_list, op_rx_list = solve_for_lists_milp(num_tx=num_tx, min_sig=min_sig, min_sig_low = min_sig_low, satisfaction=satisfaction)\n",
    "\n",
    "stop = timeit.default_timer()\n",
    "print('Time: ', stop - start) \n",
    "    \n",
    "print(len(op_rx_list))\n",
    "print(op_tx_list)\n",
    "print(op_rx_list)"
   ]
  },
  {
   "cell_type": "code",
   "execution_count": null,
   "metadata": {},
   "outputs": [],
   "source": []
  }
 ],
 "metadata": {
  "kernelspec": {
   "display_name": "Python 3 (ipykernel)",
   "language": "python",
   "name": "python3"
  },
  "language_info": {
   "codemirror_mode": {
    "name": "ipython",
    "version": 3
   },
   "file_extension": ".py",
   "mimetype": "text/x-python",
   "name": "python",
   "nbconvert_exporter": "python",
   "pygments_lexer": "ipython3",
   "version": "3.10.4"
  }
 },
 "nbformat": 4,
 "nbformat_minor": 4
}
